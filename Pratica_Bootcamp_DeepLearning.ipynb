{
  "nbformat": 4,
  "nbformat_minor": 0,
  "metadata": {
    "colab": {
      "provenance": [],
      "authorship_tag": "ABX9TyMbZ3nxCqA6/P5C7TW85k4i",
      "include_colab_link": true
    },
    "kernelspec": {
      "name": "python3",
      "display_name": "Python 3"
    },
    "language_info": {
      "name": "python"
    }
  },
  "cells": [
    {
      "cell_type": "markdown",
      "metadata": {
        "id": "view-in-github",
        "colab_type": "text"
      },
      "source": [
        "<a href=\"https://colab.research.google.com/github/FilosoDev/experimentos-python/blob/main/Pratica_Bootcamp_DeepLearning.ipynb\" target=\"_parent\"><img src=\"https://colab.research.google.com/assets/colab-badge.svg\" alt=\"Open In Colab\"/></a>"
      ]
    },
    {
      "cell_type": "code",
      "source": [
        "pip install --upgrade keras\n"
      ],
      "metadata": {
        "id": "hauDkNJ3TtoA"
      },
      "execution_count": null,
      "outputs": []
    },
    {
      "cell_type": "code",
      "execution_count": null,
      "metadata": {
        "id": "v_Mkm6PWFyjT"
      },
      "outputs": [],
      "source": [
        "import numpy #importa biblioteca para manipulação de matrizes\n",
        "from matplotlib import pyplot as plt  #importa biblioteca para criação de gráficos\n",
        "\n",
        "#inicio das importações de classes do Keras (modelos de Deep Learning)\n",
        "from keras.datasets import mnist #importa dataset mnist\n",
        "from keras.models import Sequential #importa um modelo sequencial\n",
        "from keras.layers import Dense, Dropout, Input, InputLayer #importa camadas totalmente conectadas\n",
        "from keras.layers import Dropout #importa a estrutura de dropout\n",
        "\n",
        "#from keras.utils import np_utils #importa biblioteca de utilidade do Keras\n",
        "from keras.utils import to_categorical"
      ]
    },
    {
      "cell_type": "code",
      "source": [
        "(X_train, y_train), (X_test, y_test) = mnist.load_data() #importa o dataset Mnist da biblioteca do Keras\n",
        "print(X_train.shape) #imprime o tamanho do vetor\n",
        "\n",
        "first_image = X_train[7] #obtém a imagem de treino no índice 100 do vetor\n",
        "#realiza a manipulação dos dados da imagem\n",
        "first_image = numpy.array(first_image, dtype='float')\n",
        "pixels = first_image.reshape((28,28))\n",
        "#exibe a imagem do vetor\n",
        "plt.imshow(pixels, cmap='gray')\n",
        "plt.show()\n",
        "\n",
        "\n",
        "print(y_train[7]) #imprime a classe da imagem de treino do índice 100"
      ],
      "metadata": {
        "id": "e4SQA2ZLGBG1"
      },
      "execution_count": null,
      "outputs": []
    },
    {
      "cell_type": "code",
      "source": [
        "num_pixels = X_train.shape[1] * X_train.shape[2] #calcula o total de pixels da imagem\n",
        "print(num_pixels)\n",
        "\n",
        "#transforma os valores dos pixels para float32\n",
        "X_train2 = X_train.reshape(X_train.shape[0], num_pixels).astype('float32')\n",
        "X_test2 = X_test.reshape(X_test.shape[0], num_pixels).astype('float32')\n",
        "\n",
        "#normalizando os valores dos pixels entre 0 e 1\n",
        "X_train2 = X_train2 / 255\n",
        "X_test2 = X_test2 / 255\n",
        "\n",
        "print(X_train[7])\n",
        "print(X_train2[7])\n",
        "\n",
        "#print(first_image)"
      ],
      "metadata": {
        "id": "-VP_qbLYqMz6"
      },
      "execution_count": null,
      "outputs": []
    },
    {
      "cell_type": "code",
      "source": [
        "#transforma os y em one-hot vector\n",
        "y_train_h = to_categorical(y_train)\n",
        "y_test_h = to_categorical(y_test)\n",
        "\n",
        "#obtém o número de classes do problema\n",
        "num_classes = y_test_h.shape[1]\n",
        "\n",
        "print(num_pixels)\n",
        "print(y_train[1001])\n",
        "print(y_train_h[1001])\n",
        "print(num_classes)"
      ],
      "metadata": {
        "id": "kec6cfHH1T-y"
      },
      "execution_count": null,
      "outputs": []
    },
    {
      "cell_type": "code",
      "source": [
        "# cria um modelo do tipo sequencial\n",
        "model = Sequential()\n",
        "model.add(InputLayer(input_shape=(num_pixels,)))  #cria a camada de entrada\n",
        "model.add(Dense(1024, kernel_initializer='normal', activation='relu')) #cria a primeira camada da rede\n",
        "model.add(Dense(2048, kernel_initializer='normal', activation='relu')) #cria a segunda camada da rede\n",
        "model.add(Dense(num_classes, kernel_initializer='normal', activation='softmax')) #cria a camada de saída\n",
        "\n",
        "model.summary() #imprime informaçoes sobre o modelo"
      ],
      "metadata": {
        "id": "9U9qp5OdLEpp"
      },
      "execution_count": null,
      "outputs": []
    },
    {
      "cell_type": "code",
      "source": [
        "model.compile(loss='crossentropy', optimizer='adam', metrics=['accuracy']) #compila o modelo criado\n",
        "result = model.fit(X_train2, y_train_h, validation_data=(X_test2, y_test_h), epochs=20, verbose=1, batch_size=100) #executa o treinamento"
      ],
      "metadata": {
        "id": "SLAY4xcSbcrP"
      },
      "execution_count": null,
      "outputs": []
    },
    {
      "cell_type": "code",
      "source": [
        "#obtém a imagem número 1001\n",
        "x = X_train2[50]\n",
        "print(x.shape)\n",
        "x = numpy.expand_dims(x, axis=0)\n",
        "print(x.shape)\n",
        "\n",
        "print(model.predict(x))\n",
        "print(numpy.argmax(model.predict(x)))"
      ],
      "metadata": {
        "colab": {
          "base_uri": "https://localhost:8080/"
        },
        "id": "TthAXAAEBztp",
        "outputId": "5063b18e-cc71-4f4e-d611-80e233700e16"
      },
      "execution_count": null,
      "outputs": [
        {
          "output_type": "stream",
          "name": "stdout",
          "text": [
            "(784,)\n",
            "(1, 784)\n",
            "\u001b[1m1/1\u001b[0m \u001b[32m━━━━━━━━━━━━━━━━━━━━\u001b[0m\u001b[37m\u001b[0m \u001b[1m0s\u001b[0m 26ms/step\n",
            "[[4.0980698e-35 3.8617249e-27 1.2761703e-27 1.0000000e+00 6.1681863e-37\n",
            "  1.9206764e-34 0.0000000e+00 3.2428748e-30 1.4111222e-26 2.7927431e-28]]\n",
            "\u001b[1m1/1\u001b[0m \u001b[32m━━━━━━━━━━━━━━━━━━━━\u001b[0m\u001b[37m\u001b[0m \u001b[1m0s\u001b[0m 25ms/step\n",
            "3\n"
          ]
        }
      ]
    }
  ]
}